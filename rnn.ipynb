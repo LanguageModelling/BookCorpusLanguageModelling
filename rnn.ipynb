{
 "cells": [
  {
   "cell_type": "code",
   "execution_count": 1,
   "metadata": {},
   "outputs": [
    {
     "name": "stderr",
     "output_type": "stream",
     "text": [
      "/home/jacobson.n/.conda/envs/bookcorpus/lib/python3.10/site-packages/tqdm/auto.py:21: TqdmWarning: IProgress not found. Please update jupyter and ipywidgets. See https://ipywidgets.readthedocs.io/en/stable/user_install.html\n",
      "  from .autonotebook import tqdm as notebook_tqdm\n"
     ]
    }
   ],
   "source": [
    "import torch\n",
    "import torch.nn as nn\n",
    "import torch.nn.functional as F\n",
    "from Data.Library import Library\n",
    "import matplotlib.pyplot as plt\n",
    "%load_ext autoreload\n",
    "%autoreload 2"
   ]
  },
  {
   "cell_type": "code",
   "execution_count": 2,
   "metadata": {},
   "outputs": [],
   "source": [
    "class RNN(nn.Module):\n",
    "    def __init__(self, vocab_size, d_model, d_internal, device = torch.device('cpu')):\n",
    "        super().__init__()\n",
    "        self.vocab_size = vocab_size\n",
    "        self.d_model = d_model\n",
    "        self.d_internal = d_internal\n",
    "        self.device = device\n",
    "\n",
    "        # Define model shape\n",
    "        self.embeddings = nn.Embedding(self.vocab_size, self.d_model)\n",
    "        self.fc1 = nn.Linear(self.d_model, self.d_internal).to(self.device)\n",
    "        self.fc2 = nn.Linear(self.d_internal, self.d_model).to(self.device)\n",
    "        self.output_layer = nn.Linear(self.d_model, self.vocab_size).to(self.device)\n",
    "        self.log_softmax = nn.LogSoftmax(dim=-1).to(self.device)\n",
    "\n",
    "    \n",
    "    def forward(self, sequence):\n",
    "        batch_size, seq_length = sequence.shape\n",
    "        x = torch.zeros([batch_size, self.d_model])\n",
    "        xs = torch.zeros([batch_size, seq_length, self.d_model]).to(self.device)\n",
    "        for idx in range(seq_length):\n",
    "            # Recurrent step\n",
    "            x = self.embeddings(sequence[:, idx]) + x # Add current token embedding to previous recurrent output            \n",
    "            x = self.fc1(x.to(self.device)) # Apply recurrent layer\n",
    "            x = F.relu(x)\n",
    "            x = self.fc2(x)\n",
    "            x = F.relu(x)\n",
    "            xs[:, idx, :] = x\n",
    "            x = x.to(torch.device('cpu'))\n",
    "        # Construct output\n",
    "        xs = self.output_layer(xs)\n",
    "        xs = self.log_softmax(xs)\n",
    "        return xs.permute(0, 2, 1).to(torch.device('cpu'))    \n",
    "            "
   ]
  },
  {
   "cell_type": "code",
   "execution_count": null,
   "metadata": {},
   "outputs": [
    {
     "name": "stdout",
     "output_type": "stream",
     "text": [
      "Training\n",
      "0:22688:2.3323722016905337e+20\n",
      "0:293.0223\n",
      "1:22688:3770.5834960937555\n",
      "1:257.8623\n",
      "3:22688:3674.4191894531255\n",
      "3:236.0574\n",
      "4:22688:3654.1682128906255\n",
      "4:231.1693\n",
      "5:22688:3639.7399902343755\n",
      "5:227.8131\n",
      "6:22688:3628.6945800781255\n",
      "6:225.1880\n",
      "7:22688:3619.5678710937555\n",
      "7:223.1555\n",
      "8:22688:3612.0295410156255\n",
      "8:221.6118\n",
      "9:1568:248.16328430175786\r"
     ]
    }
   ],
   "source": [
    "# Hyperparams\n",
    "epochs = 128\n",
    "lr = .001\n",
    "seq_length=1024\n",
    "batch_size= 32\n",
    "d_model = 256\n",
    "d_internal = 512\n",
    "train_size = 2**20\n",
    "encoding=1000\n",
    "torch.manual_seed(0)\n",
    "\n",
    "# Setup\n",
    "device = torch.device('cuda')\n",
    "library = Library(encoding = encoding, train_size = train_size, streaming=False)\n",
    "\n",
    "model = RNN(\n",
    "    vocab_size=library.encoding.max_token_value,\n",
    "    d_model = d_model,\n",
    "    d_internal = d_internal,\n",
    "    device=device\n",
    "    )\n",
    "loss_fn = nn.NLLLoss()\n",
    "optim = torch.optim.Adam(model.parameters(), lr=lr)\n",
    "\n",
    "x_batch = torch.zeros([batch_size, seq_length-1])\n",
    "y_batch = torch.zeros([batch_size, seq_length-1])\n",
    "losses = torch.zeros(epochs)\n",
    "perplexities = torch.zeros(epochs)\n",
    "print('Training')\n",
    "# Training\n",
    "for epoch in range(epochs):\n",
    "    dataloader = library.get_train_dataloader(seq_length)\n",
    "    for idx, data in enumerate(dataloader):\n",
    "        mod_idx = idx % batch_size\n",
    "        if data.shape[0] != seq_length:\n",
    "            break # End of usable dataloader\n",
    "        x_batch[mod_idx] = data[:-1]\n",
    "        y_batch[mod_idx] = data[1:]\n",
    "        if mod_idx == batch_size-1:\n",
    "            # Update weights\n",
    "            optim.zero_grad()\n",
    "            y_pred = model(x_batch.long())\n",
    "            loss = loss_fn(y_pred, y_batch.long())\n",
    "            losses[epoch] += loss\n",
    "            print(f'{epoch}:{idx+1}:{losses[epoch]}', end='\\r')\n",
    "            loss.backward()\n",
    "            optim.step()\n",
    "    # Test\n",
    "    perplexities[epoch] = library.calc_perplexity(model)\n",
    "    torch.save(model.state_dict(), f'Models/{encoding}.pkl')\n",
    "    print(f'\\n{epoch}:{perplexities[epoch]:.4f}')"
   ]
  },
  {
   "cell_type": "code",
   "execution_count": null,
   "metadata": {},
   "outputs": [],
   "source": [
    "def shannon(model, encoder, length=100):\n",
    "    current_sentence = torch.LongTensor(encoder.encode('[')).unsqueeze(0)\n",
    "    for i in range(length):\n",
    "        output = torch.exp(model(current_sentence))[0,:,-1]\n",
    "        new_char=torch.distributions.categorical.Categorical(probs=output).sample()\n",
    "        current_sentence = torch.cat((current_sentence, new_char.unsqueeze(0).unsqueeze(0)))\n",
    "    return encoder.decode(current_sentence)\n",
    "library = Library(encoding = '50k', train_size = train_size, streaming=False)\n",
    "model.load_state_dict(torch.load( f'Models/{encoding}.pkl', weights_only=True))\n",
    "shannon(model, library.encoding)"
   ]
  },
  {
   "cell_type": "code",
   "execution_count": 8,
   "metadata": {},
   "outputs": [
    {
     "data": {
      "text/plain": [
       "388712"
      ]
     },
     "execution_count": 8,
     "metadata": {},
     "output_type": "execute_result"
    }
   ],
   "source": [
    "def get_n_params(model):\n",
    "    pp=0\n",
    "    for p in list(model.parameters()):\n",
    "        nn=1\n",
    "        for s in list(p.size()):\n",
    "            nn = nn*s\n",
    "        pp += nn\n",
    "    return pp\n",
    "get_n_params(model)"
   ]
  },
  {
   "cell_type": "code",
   "execution_count": 16,
   "metadata": {},
   "outputs": [
    {
     "data": {
      "text/plain": [
       "1.0347393986809896"
      ]
     },
     "execution_count": 16,
     "metadata": {},
     "output_type": "execute_result"
    }
   ],
   "source": [
    "import numpy as np\n",
    "np.exp(4.337/127)"
   ]
  },
  {
   "cell_type": "code",
   "execution_count": null,
   "metadata": {},
   "outputs": [],
   "source": []
  }
 ],
 "metadata": {
  "kernelspec": {
   "display_name": "bookcorpus",
   "language": "python",
   "name": "bookcorpus"
  },
  "language_info": {
   "codemirror_mode": {
    "name": "ipython",
    "version": 3
   },
   "file_extension": ".py",
   "mimetype": "text/x-python",
   "name": "python",
   "nbconvert_exporter": "python",
   "pygments_lexer": "ipython3",
   "version": "3.10.0"
  }
 },
 "nbformat": 4,
 "nbformat_minor": 4
}
