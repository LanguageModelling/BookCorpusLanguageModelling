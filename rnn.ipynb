{
 "cells": [
  {
   "cell_type": "code",
   "execution_count": 22,
   "metadata": {},
   "outputs": [
    {
     "name": "stdout",
     "output_type": "stream",
     "text": [
      "The autoreload extension is already loaded. To reload it, use:\n",
      "  %reload_ext autoreload\n"
     ]
    }
   ],
   "source": [
    "import torch\n",
    "import torch.nn as nn\n",
    "import torch.nn.functional as F\n",
    "from Data.Library import Library\n",
    "import matplotlib.pyplot as plt\n",
    "%load_ext autoreload\n",
    "%autoreload 2"
   ]
  },
  {
   "cell_type": "code",
   "execution_count": 23,
   "metadata": {},
   "outputs": [],
   "source": [
    "class RNN(nn.Module):\n",
    "    def __init__(self, vocab_size, d_model, d_internal, device = torch.device('cpu')):\n",
    "        super().__init__()\n",
    "        self.vocab_size = vocab_size\n",
    "        self.d_model = d_model\n",
    "        self.d_internal = d_internal\n",
    "        self.device = device\n",
    "\n",
    "        # Define model shape\n",
    "        self.embeddings = nn.Embedding(self.vocab_size, self.d_model)\n",
    "        self.recurrent_layer = nn.Linear(self.d_model, self.d_model).to(self.device)\n",
    "        self.recurrent_activation = nn.ReLU().to(self.device)\n",
    "        self.feed_forward = nn.Linear(self.d_model, self.d_internal).to(self.device)\n",
    "        self.feed_forward_activation = nn.ReLU().to(self.device)\n",
    "        self.output_layer = nn.Linear(self.d_internal, self.vocab_size).to(self.device)\n",
    "        self.log_softmax = nn.LogSoftmax(dim=-1).to(self.device)\n",
    "\n",
    "    \n",
    "    def forward(self, sequence):\n",
    "        batch_size, seq_length = sequence.shape\n",
    "        x = torch.zeros([batch_size, self.d_model])\n",
    "        xs = torch.zeros([batch_size, seq_length, self.d_model]).to(self.device)\n",
    "        for idx in range(seq_length):\n",
    "            # Recurrent step\n",
    "            x = self.embeddings(sequence[:, idx]) + x # Add current token embedding to previous recurrent output\n",
    "            x = self.recurrent_layer(x.to(self.device)) # Apply recurrent layer\n",
    "            x = self.recurrent_activation(x) # Apply activation function\n",
    "            xs[:, idx, :] = x\n",
    "            x = x.to(torch.device('cpu'))\n",
    "        # Construct output\n",
    "        xs = self.feed_forward(xs)\n",
    "        xs = self.feed_forward_activation(xs)\n",
    "        xs = self.output_layer(xs)\n",
    "        xs = self.log_softmax(xs)\n",
    "        return xs.permute(0, 2, 1).to(torch.device('cpu'))"
   ]
  },
  {
   "cell_type": "code",
   "execution_count": null,
   "metadata": {},
   "outputs": [],
   "source": [
    "# Hyperparams\n",
    "epochs = 16\n",
    "lr = .0001\n",
    "seq_length=512\n",
    "batch_size= 512\n",
    "d_model = 256\n",
    "d_internal = 512\n",
    "train_size = 2**12\n",
    "\n",
    "\n",
    "# Setup\n",
    "device = torch.device('mps')\n",
    "library = Library(encoding = 27, train_size = train_size, streaming=False)\n",
    "model = RNN(\n",
    "    vocab_size=library.encoding.max_token_value,\n",
    "    d_model = d_model,\n",
    "    d_internal = d_internal,\n",
    "    device=device\n",
    "    )\n",
    "loss_fn = nn.NLLLoss()\n",
    "optim = torch.optim.Adam(model.parameters(), lr=lr)\n",
    "\n",
    "x_batch = torch.zeros([batch_size, seq_length])\n",
    "y_batch = torch.zeros([batch_size, seq_length])\n",
    "losses = torch.zeros(epochs)\n",
    "perplexities = torch.zeros(epochs)\n",
    "# Training\n",
    "for epoch in range(epochs):\n",
    "    dataloader = library.get_train_dataloader(seq_length+1)\n",
    "    for idx, data in enumerate(dataloader):\n",
    "        mod_idx = idx % batch_size\n",
    "        x_batch[mod_idx] = data[:-1]\n",
    "        y_batch[mod_idx] = data[1:]\n",
    "        if mod_idx == batch_size-1:\n",
    "            # Update weights\n",
    "            optim.zero_grad()\n",
    "            y_pred = model(x_batch.long())\n",
    "            loss = loss_fn(y_pred, y_batch.long())\n",
    "            losses[epoch] += loss\n",
    "            loss.backward()\n",
    "            print(loss)\n",
    "            optim.step()\n",
    "    # Test\n",
    "    perplexities[epoch] = library.calc_perplexity(model)\n",
    "    print(f'perplexity:{perplexities[epoch]:.4f}')"
   ]
  },
  {
   "cell_type": "code",
   "execution_count": null,
   "metadata": {},
   "outputs": [],
   "source": []
  },
  {
   "cell_type": "code",
   "execution_count": null,
   "metadata": {},
   "outputs": [],
   "source": []
  }
 ],
 "metadata": {
  "kernelspec": {
   "display_name": "torch-gpu-gym",
   "language": "python",
   "name": "python3"
  },
  "language_info": {
   "codemirror_mode": {
    "name": "ipython",
    "version": 3
   },
   "file_extension": ".py",
   "mimetype": "text/x-python",
   "name": "python",
   "nbconvert_exporter": "python",
   "pygments_lexer": "ipython3",
   "version": "3.10.0"
  }
 },
 "nbformat": 4,
 "nbformat_minor": 2
}
