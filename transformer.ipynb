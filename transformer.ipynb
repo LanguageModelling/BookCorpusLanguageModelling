{
 "cells": [
  {
   "cell_type": "code",
   "execution_count": 1,
   "metadata": {},
   "outputs": [
    {
     "name": "stderr",
     "output_type": "stream",
     "text": [
      "/home/jacobson.n/.conda/envs/bookcorpus/lib/python3.10/site-packages/tqdm/auto.py:21: TqdmWarning: IProgress not found. Please update jupyter and ipywidgets. See https://ipywidgets.readthedocs.io/en/stable/user_install.html\n",
      "  from .autonotebook import tqdm as notebook_tqdm\n"
     ]
    }
   ],
   "source": [
    "import torch\n",
    "import torch.nn as nn\n",
    "from torch.nn import functional as F\n",
    "from Data.Library import Library  # Assuming you have the Library class\n",
    "import numpy as np\n",
    "%load_ext autoreload\n",
    "%autoreload 2"
   ]
  },
  {
   "cell_type": "code",
   "execution_count": 2,
   "metadata": {},
   "outputs": [
    {
     "name": "stdout",
     "output_type": "stream",
     "text": [
      "cuda\n"
     ]
    }
   ],
   "source": [
    "# Hyperparameters\n",
    "batch_size = 128  # how many independent sequences will we process in parallel?\n",
    "block_size = 512  # what is the maximum context length for predictions?\n",
    "max_iters =128\n",
    "eval_interval = 500\n",
    "learning_rate = .001\n",
    "device = torch.device('cuda')\n",
    "print(device)\n",
    "eval_iters = 200\n",
    "n_embd = 256\n",
    "n_head = 2\n",
    "n_layer = 2\n",
    "dropout = 0.2\n",
    "grad_clip = 10000  # added gradient clipping\n",
    "seq_length = 512 "
   ]
  },
  {
   "cell_type": "code",
   "execution_count": null,
   "metadata": {},
   "outputs": [
    {
     "name": "stdout",
     "output_type": "stream",
     "text": [
      "77:e \n",
      "78:d \n",
      "79:t \n",
      "80:th\n",
      "81:s \n",
      "82:in\n",
      "83:er\n",
      "84:an\n",
      "85:ou\n",
      "86: h\n",
      "87:ed \n",
      "88:ing\n",
      "89:to\n",
      "90:he \n",
      "91:y \n"
     ]
    }
   ],
   "source": [
    "# Dataset and Library setup\n",
    "encoding = 1000\n",
    "train_size = 2**16\n",
    "test_size = 2**12\n",
    "library = Library(encoding=encoding, train_size=train_size, streaming=False)\n",
    "print(\"created object\")"
   ]
  },
  {
   "cell_type": "code",
   "execution_count": null,
   "metadata": {},
   "outputs": [],
   "source": [
    "# Initialize Model\n",
    "class Head(nn.Module):\n",
    "    # One head of self-attention\n",
    "    def __init__(self, head_size):\n",
    "        super().__init__()\n",
    "        self.key = nn.Linear(n_embd, head_size, bias=False)\n",
    "        self.query = nn.Linear(n_embd, head_size, bias=False)\n",
    "        self.value = nn.Linear(n_embd, head_size, bias=False)\n",
    "        self.register_buffer('tril', torch.tril(torch.ones(block_size, block_size)))\n",
    "        self.dropout = nn.Dropout(dropout)\n",
    "\n",
    "    def forward(self, x):\n",
    "        \n",
    "        B, T, C = x.shape\n",
    "        k = self.key(x)  # (B,T,hs)\n",
    "        q = self.query(x)  # (B,T,hs)\n",
    "        wei = q @ k.transpose(-2, -1) * k.shape[-1] ** -0.5\n",
    "       \n",
    "        wei = wei.masked_fill(self.tril[:T, :T] == 0, float('-inf'))  # (B,T,T)\n",
    "        wei = F.softmax(wei, dim=-1)  # (B,T,T)\n",
    "        wei = self.dropout(wei)\n",
    "        v = self.value(x)  # (B,T,hs)\n",
    "        out = wei @ v  # (B,T,T) @ (B,T,hs) -> (B,T,hs)\n",
    "        return out"
   ]
  },
  {
   "cell_type": "code",
   "execution_count": null,
   "metadata": {},
   "outputs": [],
   "source": [
    "class MultiHeadAttention(nn.Module):\n",
    "    # Multiple heads of self-attention\n",
    "    def __init__(self, num_heads, head_size):\n",
    "        super().__init__()\n",
    "        self.heads = nn.ModuleList([Head(head_size) for _ in range(num_heads)])\n",
    "        self.proj = nn.Linear(head_size * num_heads, n_embd)\n",
    "        self.dropout = nn.Dropout(dropout)\n",
    "\n",
    "    def forward(self, x):\n",
    "        \n",
    "        out = torch.cat([h(x) for h in self.heads], dim=-1)\n",
    "        out = self.dropout(self.proj(out))\n",
    "        return out"
   ]
  },
  {
   "cell_type": "code",
   "execution_count": null,
   "metadata": {},
   "outputs": [],
   "source": [
    "class FeedForward(nn.Module):\n",
    "    # A simple linear layer followed by a non-linearity\n",
    "    def __init__(self, n_embd):\n",
    "        super().__init__()\n",
    "        self.net = nn.Sequential(\n",
    "            nn.Linear(n_embd, 4 * n_embd),\n",
    "            nn.ReLU(),\n",
    "            nn.Linear(4 * n_embd, n_embd),\n",
    "            nn.Dropout(dropout),\n",
    "        )\n",
    "\n",
    "    def forward(self, x):\n",
    "        return self.net(x)\n"
   ]
  },
  {
   "cell_type": "code",
   "execution_count": null,
   "metadata": {},
   "outputs": [],
   "source": [
    "class Block(nn.Module):\n",
    "    # Transformer block: communication followed by computation\n",
    "    def __init__(self, n_embd, n_head):\n",
    "        super().__init__()\n",
    "        head_size = n_embd // n_head\n",
    "        self.sa = MultiHeadAttention(n_head, head_size)\n",
    "        self.ffwd = FeedForward(n_embd)\n",
    "        self.ln1 = nn.LayerNorm(n_embd)\n",
    "        self.ln2 = nn.LayerNorm(n_embd)\n",
    "\n",
    "    def forward(self, x):\n",
    "        x = x + self.sa(self.ln1(x))\n",
    "        x = x + self.ffwd(self.ln2(x))\n",
    "        return x\n"
   ]
  },
  {
   "cell_type": "code",
   "execution_count": null,
   "metadata": {},
   "outputs": [],
   "source": [
    "class GPTLanguageModel(nn.Module):\n",
    "    def __init__(self, device):\n",
    "        super().__init__()\n",
    "        self.vocab_size = library.encoding.max_token_value\n",
    "        self.device = device\n",
    "        self.token_embedding_table = nn.Embedding(library.encoding.max_token_value, n_embd)\n",
    "        self.position_embedding_table = nn.Embedding(block_size, n_embd)\n",
    "        self.blocks = nn.Sequential(*[Block(n_embd, n_head=n_head) for _ in range(n_layer)]).to(self.device)\n",
    "        self.ln_f = nn.LayerNorm(n_embd).to(self.device)\n",
    "        self.lm_head = nn.Linear(n_embd, library.encoding.max_token_value).to(self.device)\n",
    "        self.apply(self._init_weights)\n",
    "\n",
    "    def _init_weights(self, module):\n",
    "        if isinstance(module, nn.Linear):\n",
    "            torch.nn.init.normal_(module.weight, mean=0.0, std=0.02).to(self.device)\n",
    "            if module.bias is not None:\n",
    "                torch.nn.init.zeros_(module.bias)\n",
    "        elif isinstance(module, nn.Embedding):\n",
    "            torch.nn.init.normal_(module.weight, mean=0.0, std=0.02)\n",
    "\n",
    "    def forward(self, idx, targets=None):\n",
    "        if idx.dim() == 1:\n",
    "            idx = idx.unsqueeze(0)\n",
    "        B, T = idx.shape\n",
    "        \n",
    "        # print(self.token_embedding_table.device)\n",
    "        tok_emb = self.token_embedding_table(idx)\n",
    "        \n",
    "        \n",
    "        pos_emb = self.position_embedding_table(torch.arange(T))\n",
    "        \n",
    "        # print(\"token embedding \", pos_emb.shape)\n",
    "        x = tok_emb + pos_emb\n",
    "        x = x.to(self.device)\n",
    "        x = self.blocks(x)\n",
    "        x = self.ln_f(x)\n",
    "        \n",
    "        logits = self.lm_head(x)\n",
    "        B, T, C = logits.shape\n",
    "        # logits = logits.view(B,T, C)\n",
    "        log_probs = F.log_softmax(logits, dim=-1)\n",
    "        log_probs = log_probs.permute(0,2,1)\n",
    "        \n",
    "        \n",
    "\n",
    "\n",
    "        if targets is None:\n",
    "            loss = None\n",
    "            return log_probs.to(torch.device('cpu'))\n",
    "        \n",
    "        else:\n",
    "            targets = targets.to(self.device)\n",
    "            \n",
    "            targets = targets.view(B*T)\n",
    "            \n",
    "            loss = F.nll_loss(log_probs, targets)\n",
    "\n",
    "        return log_probs.to(torch.device('cpu')), loss\n",
    "    def generate(self, idx, max_new_tokens):\n",
    "        for _ in range(max_new_tokens):\n",
    "            idx_cond = idx[:, -block_size:]\n",
    "            logits, loss = self(idx_cond)\n",
    "            logits = logits[:, -1, :]\n",
    "            probs = F.softmax(logits, dim=-1)\n",
    "            idx_next = torch.multinomial(probs, num_samples=1)\n",
    "            idx = torch.cat((idx, idx_next), dim=1)\n",
    "        return idx"
   ]
  },
  {
   "cell_type": "code",
   "execution_count": null,
   "metadata": {},
   "outputs": [],
   "source": [
    "model = GPTLanguageModel(device=device)\n",
    "print(sum(p.numel() for p in model.parameters()), 'parameters')\n",
    "optimizer = torch.optim.AdamW(model.parameters(), lr=learning_rate)\n",
    "loss_fn = nn.NLLLoss()"
   ]
  },
  {
   "cell_type": "code",
   "execution_count": null,
   "metadata": {},
   "outputs": [],
   "source": [
    "# Training Loop\n",
    "perplexities = torch.zeros(max_iters)\n",
    "for epoch in range(max_iters):\n",
    "    # if iter % eval_interval == 0 or iter == max_iters - 1:\n",
    "    #     losses = estimate_loss(model, library)\n",
    "    #     print(f\"step {iter}: train loss {losses['train']:.4f}, val loss {losses['val']:.4f}\")\n",
    "\n",
    "    # Load batch data using Library's DataLoader\n",
    "    \n",
    "    dataloader = library.get_train_dataloader(seq_length+1)\n",
    "    \n",
    "    \n",
    "    \n",
    "    \n",
    "    xbatch = torch.zeros((batch_size,seq_length))\n",
    "    ybatch = torch.zeros((batch_size,seq_length))\n",
    "\n",
    "    for idx, data in enumerate(dataloader):\n",
    "        mod_idx = idx%batch_size\n",
    "        # print(\"jere\")\n",
    "\n",
    "        \n",
    "\n",
    "        xb, yb = data[:-1], data[1:]\n",
    "        if(data.shape[0]!=seq_length+1):\n",
    "            break\n",
    "        xbatch[mod_idx] = xb\n",
    "        ybatch[mod_idx] = yb\n",
    "        \n",
    "\n",
    "\n",
    "        if(mod_idx==batch_size-1):\n",
    "            optimizer.zero_grad(set_to_none=True)\n",
    "\n",
    "            logits = model(xbatch.long())\n",
    "            loss = loss_fn(logits, ybatch.long())\n",
    "            loss.backward()\n",
    "\n",
    "            torch.nn.utils.clip_grad_norm_(model.parameters(), grad_clip)\n",
    "        \n",
    "            optimizer.step()\n",
    "\n",
    "   \n",
    "        \n",
    "\n",
    "    # Perplexity Evaluation\n",
    "    \n",
    "    perplexity = library.calc_perplexity(model)\n",
    "    perplexities[epoch] = perplexity\n",
    "    print(f\"Perplexity at step {epoch}: {perplexity:.4f}\")"
   ]
  },
  {
   "cell_type": "code",
   "execution_count": 12,
   "metadata": {},
   "outputs": [],
   "source": [
    "# Generate output from the model\n",
    "context = torch.zeros((1, 1), dtype=torch.long)\n",
    "# generated = model.generate(context, max_new_tokens=500)\n",
    "# print(library.encoding.decode(generated[0].tolist()))\n"
   ]
  },
  {
   "cell_type": "code",
   "execution_count": null,
   "metadata": {},
   "outputs": [],
   "source": []
  },
  {
   "cell_type": "code",
   "execution_count": null,
   "metadata": {},
   "outputs": [],
   "source": []
  }
 ],
 "metadata": {
  "kernelspec": {
   "display_name": "bookcorpus",
   "language": "python",
   "name": "bookcorpus"
  },
  "language_info": {
   "codemirror_mode": {
    "name": "ipython",
    "version": 3
   },
   "file_extension": ".py",
   "mimetype": "text/x-python",
   "name": "python",
   "nbconvert_exporter": "python",
   "pygments_lexer": "ipython3",
   "version": "3.10.0"
  }
 },
 "nbformat": 4,
 "nbformat_minor": 4
}
